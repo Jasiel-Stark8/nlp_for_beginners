{
 "cells": [
  {
   "cell_type": "code",
   "execution_count": 1,
   "id": "f24bb1e5",
   "metadata": {},
   "outputs": [],
   "source": [
    "import re"
   ]
  },
  {
   "cell_type": "code",
   "execution_count": 2,
   "id": "002f45cc",
   "metadata": {},
   "outputs": [],
   "source": [
    "chats = [\n",
    "    'codebasics: you ask lot of questions. 1235678912, abc@xyz.com '\n",
    "    'codebasics: here it is: (123)-567-8912, a12_dT@xyz.com (235)-356-4930'\n",
    "    'codebasics: yes, phone: 123 567 8912 email:. aBc@xyz.com 345 752 2468'\n",
    "]"
   ]
  },
  {
   "cell_type": "code",
   "execution_count": 3,
   "id": "675423db",
   "metadata": {},
   "outputs": [],
   "source": [
    "orders = [\n",
    "    'codebasics: Hello, I am having an issue. with my order #412889912'\n",
    "    'codebasics: I have a problem with my order number is this one 412889912'\n",
    "    'codebasics: My order 412889912 is having an issue, I was charged 300$ when online it says 280$'\n",
    "]"
   ]
  },
  {
   "cell_type": "code",
   "execution_count": 4,
   "id": "14cfbd40",
   "metadata": {},
   "outputs": [
    {
     "name": "stdout",
     "output_type": "stream",
     "text": [
      "Matched: ['412889912', '412889912', '412889912']\n"
     ]
    }
   ],
   "source": [
    "chat_pattern = '[a-z0-9A-Z_]*@[a-z0-9A-Z]*\\.[a-zA-Z]*'\n",
    "orders_pattern = 'order[^\\d]*(\\d*)'\n",
    "for order in orders:\n",
    "    matches = re.findall(orders_pattern, order)\n",
    "    print(f'Matched: {matches[:]}')"
   ]
  }
 ],
 "metadata": {
  "kernelspec": {
   "display_name": "Python 3 (ipykernel)",
   "language": "python",
   "name": "python3"
  },
  "language_info": {
   "codemirror_mode": {
    "name": "ipython",
    "version": 3
   },
   "file_extension": ".py",
   "mimetype": "text/x-python",
   "name": "python",
   "nbconvert_exporter": "python",
   "pygments_lexer": "ipython3",
   "version": "3.11.7"
  }
 },
 "nbformat": 4,
 "nbformat_minor": 5
}
