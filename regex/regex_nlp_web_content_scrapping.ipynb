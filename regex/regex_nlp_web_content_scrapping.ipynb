{
 "cells": [
  {
   "cell_type": "code",
   "execution_count": null,
   "id": "f5199e0a",
   "metadata": {},
   "outputs": [],
   "source": [
    "import re"
   ]
  },
  {
   "cell_type": "code",
   "execution_count": null,
   "id": "44166196",
   "metadata": {},
   "outputs": [],
   "source": [
    "text = '''\n",
    "Born\tElon Reeve Musk\n",
    "June 28, 1971 (age 52)\n",
    "Pretoria, Transvaal, South Africa\n",
    "Citizenship\t\n",
    "South Africa\n",
    "Canada\n",
    "United States\n",
    "Education\tUniversity of Pennsylvania (BA, BS)\n",
    "Title\t\n",
    "Founder, CEO, and chief engineer of SpaceX\n",
    "CEO and product architect of Tesla, Inc.\n",
    "Owner and CTO of X, formerly Twitter\n",
    "President of the Musk Foundation\n",
    "Founder of The Boring Company, X Corp., and xAI\n",
    "Co-founder of Neuralink, OpenAI, Zip2, and X.com (part of PayPal)\n",
    "Spouses\t\n",
    "Justine Wilson\n",
    "​\n",
    "​(m. 2000; div. 2008)​\n",
    "Talulah Riley\n",
    "​\n",
    "​(m. 2010; div. 2012)​\n",
    "​\n",
    "​(m. 2013; div. 2016)​\n",
    "Partners\t\n",
    "Amber Heard (2015–2017)[1]\n",
    "Grimes (2018–2021)[2]\n",
    "Children\t11[a][4]\n",
    "Parents\t\n",
    "Errol Musk\n",
    "Maye Musk\n",
    "Relatives\t\n",
    "Kimbal Musk (brother)\n",
    "Tosca Musk (sister)\n",
    "Lyndon Rive (cousin)\n",
    "Family\tMusk family\n",
    "Signature\n",
    "'''\n",
    "\n",
    "text1 = '''\n",
    "Ilya Sutskever (right) with Sam Altman at Tel Aviv University in 2023\n",
    "Born\tИлья Суцкевер\n",
    "1985 or 1986 (age 36–38)[4]\n",
    "Gorky, Russian SFSR, Soviet Union[5][6]\n",
    "Citizenship\tCanadian, Israeli\n",
    "Alma mater\t\n",
    "Open University of Israel\n",
    "University of Toronto (BS, MS, PhD)\n",
    "Known for\tAlexNet\n",
    "Co-founding OpenAI\n",
    "Scientific career\n",
    "Fields\tMachine learning\n",
    "Neural networks\n",
    "Artificial intelligence\n",
    "Deep learning[1]\n",
    "Institutions\tUniversity of Toronto\n",
    "Stanford University\n",
    "Google Brain\n",
    "OpenAI\n",
    "Thesis\tTraining Recurrent Neural Networks (2013)\n",
    "Doctoral advisor\tGeoffrey Hinton[2][3]\n",
    "Website\twww.cs.toronto.edu/~ilya/ Edit this at Wikidata\n",
    "'''"
   ]
  },
  {
   "cell_type": "code",
   "execution_count": null,
   "id": "2bd315f4",
   "metadata": {},
   "outputs": [],
   "source": [
    "age_pattern = 'age (\\d+)'\n",
    "name_pattern = 'Born(.*)'\n",
    "birth_date_pattern = 'Born.*\\n(.*)\\(age'\n",
    "birth_place_pattern = 'age.*\\n(.*)'"
   ]
  },
  {
   "cell_type": "code",
   "execution_count": null,
   "id": "ed77a0db",
   "metadata": {},
   "outputs": [],
   "source": [
    "def get_pattern_match(pattern, text):\n",
    "    matches = re.findall(pattern, text)\n",
    "    if matches:\n",
    "        return matches[0].strip()"
   ]
  },
  {
   "cell_type": "code",
   "execution_count": null,
   "id": "b9218e23",
   "metadata": {},
   "outputs": [],
   "source": [
    "# pattern = <choose a pattern>\n",
    "# print(get_pattern_match(pattern, text))"
   ]
  },
  {
   "cell_type": "code",
   "execution_count": null,
   "id": "c5db7bc5",
   "metadata": {},
   "outputs": [],
   "source": [
    "# Frist way\n",
    "def extract_personal_info(text):\n",
    "    age = 'age (\\d+)'\n",
    "    full_name = 'Born(.*)'\n",
    "    birth_date = 'Born.*\\n(.*)\\(age'\n",
    "    birth_place = 'age.*\\n(.*)'\n",
    "\n",
    "    age_match = re.search(age_pattern, text)\n",
    "    name_match = re.search(name_pattern, text)\n",
    "    birth_date_match = re.search(birth_date_pattern, text)\n",
    "    birth_place_match = re.search(birth_place_pattern, text)\n",
    "\n",
    "    personal_info = {\n",
    "        'name': name_match.group(1).strip() if name_match else '',\n",
    "        'age': int(age_match.group(1)) if age_match else 0,\n",
    "        'birth_date': birth_date_match.group(1).strip() if birth_date_match else '',\n",
    "        'birth_place': birth_place_match.group(1).strip() if birth_place_match else ''\n",
    "    }\n",
    "\n",
    "    return personal_info"
   ]
  },
  {
   "cell_type": "code",
   "execution_count": null,
   "id": "2a46e016",
   "metadata": {},
   "outputs": [],
   "source": [
    "extract_personal_info(text)"
   ]
  },
  {
   "cell_type": "code",
   "execution_count": null,
   "id": "fb068712",
   "metadata": {},
   "outputs": [],
   "source": [
    "# Second way\n",
    "def extract_personal_info(text):\n",
    "    age = get_pattern_match('age (\\d+)', text1)\n",
    "    full_name = get_pattern_match('Born(.*)', text1)\n",
    "    birth_date = get_pattern_match('Born.*\\n(.*)\\(age', text1)\n",
    "    birth_place = get_pattern_match('age.*\\n(.*)', text1)\n",
    "\n",
    "    return {\n",
    "        'age': int(age),\n",
    "        'full_name': str(full_name).strip(),\n",
    "        'birth_date': birth_date.strip(),\n",
    "        'birth_place': birth_place.strip()\n",
    "    }\n",
    "    "
   ]
  },
  {
   "cell_type": "code",
   "execution_count": null,
   "id": "d5456c76",
   "metadata": {},
   "outputs": [],
   "source": [
    "extract_personal_info(text1)"
   ]
  },
  {
   "cell_type": "code",
   "execution_count": null,
   "id": "a90c92a4",
   "metadata": {},
   "outputs": [],
   "source": []
  }
 ],
 "metadata": {
  "kernelspec": {
   "display_name": "Python 3 (ipykernel)",
   "language": "python",
   "name": "python3"
  },
  "language_info": {
   "codemirror_mode": {
    "name": "ipython",
    "version": 3
   },
   "file_extension": ".py",
   "mimetype": "text/x-python",
   "name": "python",
   "nbconvert_exporter": "python",
   "pygments_lexer": "ipython3",
   "version": "3.11.6"
  }
 },
 "nbformat": 4,
 "nbformat_minor": 5
}
