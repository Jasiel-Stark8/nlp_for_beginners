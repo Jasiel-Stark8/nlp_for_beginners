{
 "cells": [
  {
   "cell_type": "code",
   "execution_count": 1,
   "metadata": {},
   "outputs": [],
   "source": [
    "# !pip install nltk"
   ]
  },
  {
   "cell_type": "code",
   "execution_count": 2,
   "metadata": {},
   "outputs": [
    {
     "name": "stderr",
     "output_type": "stream",
     "text": [
      "[nltk_data] Downloading package punkt to\n",
      "[nltk_data]     /home/singularity_engineer/nltk_data...\n",
      "[nltk_data]   Package punkt is already up-to-date!\n"
     ]
    },
    {
     "data": {
      "text/plain": [
       "True"
      ]
     },
     "execution_count": 2,
     "metadata": {},
     "output_type": "execute_result"
    }
   ],
   "source": [
    "\n",
    "import nltk\n",
    "nltk.download('punkt')"
   ]
  },
  {
   "cell_type": "code",
   "execution_count": 3,
   "metadata": {},
   "outputs": [],
   "source": [
    "from nltk.tokenize import sent_tokenize"
   ]
  },
  {
   "cell_type": "code",
   "execution_count": 4,
   "metadata": {},
   "outputs": [
    {
     "data": {
      "text/plain": [
       "['True AGI.',\n",
       " 'Through MM&CD we can find not only perfect, but we can find true superalignment and a solid step to ASI.',\n",
       " 'From the heart of Africa!',\n",
       " 'Dr.',\n",
       " 'Strange']"
      ]
     },
     "execution_count": 4,
     "metadata": {},
     "output_type": "execute_result"
    }
   ],
   "source": [
    "sent_tokenize(\"True AGI. Through MM&CD we can find not only perfect, but we can fin\\\n",
    "d true superalignment and a solid step to ASI. From the heart of Africa! \\\n",
    "    Dr. Strange\")"
   ]
  },
  {
   "cell_type": "code",
   "execution_count": 5,
   "metadata": {},
   "outputs": [],
   "source": [
    "from nltk.tokenize import word_tokenize"
   ]
  },
  {
   "cell_type": "code",
   "execution_count": 6,
   "metadata": {},
   "outputs": [
    {
     "data": {
      "text/plain": [
       "['True',\n",
       " 'AGI',\n",
       " '.',\n",
       " 'Through',\n",
       " 'MM',\n",
       " '&',\n",
       " 'CD',\n",
       " 'we',\n",
       " 'can',\n",
       " 'find',\n",
       " 'not',\n",
       " 'only',\n",
       " 'perfect',\n",
       " ',',\n",
       " 'but',\n",
       " 'we',\n",
       " 'can',\n",
       " 'find',\n",
       " 'true',\n",
       " 'superalignment',\n",
       " 'and',\n",
       " 'a',\n",
       " 'solid',\n",
       " 'step',\n",
       " 'to',\n",
       " 'ASI',\n",
       " '.',\n",
       " 'From',\n",
       " 'the',\n",
       " 'heart',\n",
       " 'of',\n",
       " 'Africa',\n",
       " '!',\n",
       " 'Dr',\n",
       " '.',\n",
       " 'Strange']"
      ]
     },
     "execution_count": 6,
     "metadata": {},
     "output_type": "execute_result"
    }
   ],
   "source": [
    "word_tokenize(\"True AGI. Through MM&CD we can find not only perfect, but we can fin\\\n",
    "d true superalignment and a solid step to ASI. From the heart of Africa! \\\n",
    "    Dr. Strange\")"
   ]
  }
 ],
 "metadata": {
  "kernelspec": {
   "display_name": "nlp",
   "language": "python",
   "name": "python3"
  },
  "language_info": {
   "codemirror_mode": {
    "name": "ipython",
    "version": 3
   },
   "file_extension": ".py",
   "mimetype": "text/x-python",
   "name": "python",
   "nbconvert_exporter": "python",
   "pygments_lexer": "ipython3",
   "version": "3.11.7"
  }
 },
 "nbformat": 4,
 "nbformat_minor": 2
}
