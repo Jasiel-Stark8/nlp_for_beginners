{
 "cells": [
  {
   "cell_type": "code",
   "execution_count": 1,
   "metadata": {},
   "outputs": [],
   "source": [
    "import spacy"
   ]
  },
  {
   "cell_type": "code",
   "execution_count": 2,
   "metadata": {},
   "outputs": [],
   "source": [
    "nlp = spacy.load(\"en_core_web_sm\")"
   ]
  },
  {
   "cell_type": "code",
   "execution_count": 3,
   "metadata": {},
   "outputs": [
    {
     "data": {
      "text/plain": [
       "['tok2vec', 'tagger', 'parser', 'attribute_ruler', 'lemmatizer', 'ner']"
      ]
     },
     "execution_count": 3,
     "metadata": {},
     "output_type": "execute_result"
    }
   ],
   "source": [
    "nlp.pipe_names"
   ]
  },
  {
   "cell_type": "code",
   "execution_count": 4,
   "metadata": {},
   "outputs": [
    {
     "name": "stdout",
     "output_type": "stream",
     "text": [
      "Elon  ->  PROPN  |  proper noun\n",
      "went  ->  VERB  |  verb\n",
      "to  ->  ADP  |  adposition\n",
      "Mars  ->  PROPN  |  proper noun\n",
      "yesterday  ->  NOUN  |  noun\n",
      "!  ->  PUNCT  |  punctuation\n",
      ".  ->  PUNCT  |  punctuation\n",
      "Starship  ->  NOUN  |  noun\n",
      "travelled  ->  VERB  |  verb\n",
      "an  ->  DET  |  determiner\n",
      "astonishing  ->  ADJ  |  adjective\n",
      "380k  ->  NOUN  |  noun\n",
      "km  ->  NOUN  |  noun\n",
      "/  ->  SYM  |  symbol\n",
      "h  ->  NOUN  |  noun\n",
      "with  ->  ADP  |  adposition\n",
      "the  ->  DET  |  determiner\n",
      "new  ->  ADJ  |  adjective\n",
      "Project  ->  PROPN  |  proper noun\n",
      "Halo  ->  PROPN  |  proper noun\n",
      "engineering  ->  NOUN  |  noun\n",
      ".  ->  PUNCT  |  punctuation\n"
     ]
    }
   ],
   "source": [
    "doc = nlp(\"Elon went to Mars yesterday!. Starship travelled an astonishing 380k km/h with the new Project Halo engineering.\")\n",
    "\n",
    "for token in doc:\n",
    "    print(token, \" -> \", token.pos_, \" | \", spacy.explain(token.pos_))"
   ]
  },
  {
   "cell_type": "code",
   "execution_count": 5,
   "metadata": {},
   "outputs": [
    {
     "name": "stdout",
     "output_type": "stream",
     "text": [
      "Wow  |  INTJ  |  interjection  |  UH  |  interjection\n",
      "!  |  PUNCT  |  punctuation  |  .  |  punctuation mark, sentence closer\n",
      "Dr.  |  PROPN  |  proper noun  |  NNP  |  noun, proper singular\n",
      "Strange  |  PROPN  |  proper noun  |  NNP  |  noun, proper singular\n",
      "made  |  VERB  |  verb  |  VBD  |  verb, past tense\n",
      ",  |  PUNCT  |  punctuation  |  ,  |  punctuation mark, comma\n",
      "$  |  SYM  |  symbol  |  $  |  symbol, currency\n",
      "300  |  NUM  |  numeral  |  CD  |  cardinal number\n",
      "Million  |  NUM  |  numeral  |  CD  |  cardinal number\n",
      "on  |  ADP  |  adposition  |  IN  |  conjunction, subordinating or preposition\n",
      "the  |  DET  |  determiner  |  DT  |  determiner\n",
      "first  |  ADJ  |  adjective  |  JJ  |  adjective (English), other noun-modifier (Chinese)\n",
      "day  |  NOUN  |  noun  |  NN  |  noun, singular or mass\n",
      ".  |  PUNCT  |  punctuation  |  .  |  punctuation mark, sentence closer\n"
     ]
    }
   ],
   "source": [
    "doc = nlp(\"Wow! Dr. Strange made, $300 Million on the first day.\")\n",
    "for token in doc:\n",
    "    print(token, \" | \", token.pos_, \" | \", spacy.explain(token.pos_), \" | \", token.tag_, \" | \", spacy.explain(token.tag_))"
   ]
  },
  {
   "cell_type": "code",
   "execution_count": 6,
   "metadata": {},
   "outputs": [
    {
     "name": "stdout",
     "output_type": "stream",
     "text": [
      "have  |  VBP  |  verb, non-3rd person singular present\n"
     ]
    }
   ],
   "source": [
    "doc = nlp(\"I have gotten the job!\")\n",
    "doc[1]\n",
    "print(doc[1].text, \" | \", doc[1].tag_, \" | \", spacy.explain(doc[1].tag_))"
   ]
  }
 ],
 "metadata": {
  "kernelspec": {
   "display_name": "nlp",
   "language": "python",
   "name": "python3"
  },
  "language_info": {
   "codemirror_mode": {
    "name": "ipython",
    "version": 3
   },
   "file_extension": ".py",
   "mimetype": "text/x-python",
   "name": "python",
   "nbconvert_exporter": "python",
   "pygments_lexer": "ipython3",
   "version": "3.11.7"
  }
 },
 "nbformat": 4,
 "nbformat_minor": 2
}
