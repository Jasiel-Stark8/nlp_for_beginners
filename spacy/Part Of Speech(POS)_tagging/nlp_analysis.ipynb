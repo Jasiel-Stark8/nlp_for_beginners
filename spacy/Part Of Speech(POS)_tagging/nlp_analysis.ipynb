{
 "cells": [
  {
   "cell_type": "code",
   "execution_count": null,
   "metadata": {},
   "outputs": [],
   "source": [
    "import spacy"
   ]
  },
  {
   "cell_type": "code",
   "execution_count": null,
   "metadata": {},
   "outputs": [],
   "source": [
    "nlp = spacy.load(\"en_core_web_sm\")"
   ]
  },
  {
   "cell_type": "code",
   "execution_count": null,
   "metadata": {},
   "outputs": [],
   "source": [
    "earnings = \"\"\"\n",
    "    Microsoft Corp. today announced the following results for the quarter ended September 30, 2023, as compared to the corresponding period of last fiscal year:\n",
    "\n",
    "·        Revenue was $56.5 billion and increased 13% (up 12% in constant currency)\n",
    "\n",
    "·        Operating income was $26.9 billion and increased 25% (up 24% in constant currency)\n",
    "\n",
    "·        Net income was $22.3 billion and increased 27% (up 26% in constant currency)\n",
    "\n",
    "·        Diluted earnings per share was $2.99 and increased 27% (up 26% in constant currency)\n",
    "etc...\n",
    "\"\"\""
   ]
  },
  {
   "cell_type": "code",
   "execution_count": null,
   "metadata": {},
   "outputs": [],
   "source": [
    "doc = nlp(earnings)\n",
    "\n",
    "filtered_tokens = []\n",
    "\n",
    "for token in doc:\n",
    "    if token.pos_ not in [\"SPACE\", \"X\", \"PUNCT\"]:\n",
    "        filtered_tokens.append(token)\n",
    "print(filtered_tokens)"
   ]
  },
  {
   "cell_type": "code",
   "execution_count": 41,
   "metadata": {},
   "outputs": [],
   "source": [
    "count = doc.count_by(spacy.attrs.POS)\n",
    "# count"
   ]
  },
  {
   "cell_type": "code",
   "execution_count": 44,
   "metadata": {},
   "outputs": [
    {
     "name": "stdout",
     "output_type": "stream",
     "text": [
      "SPACE  |  11\n",
      "PROPN  |  3\n",
      "NOUN  |  22\n",
      "VERB  |  10\n",
      "DET  |  3\n",
      "ADP  |  8\n",
      "NUM  |  17\n",
      "PUNCT  |  16\n",
      "SCONJ  |  1\n",
      "ADJ  |  8\n",
      "AUX  |  4\n",
      "SYM  |  4\n",
      "CCONJ  |  4\n",
      "ADV  |  4\n",
      "X  |  1\n"
     ]
    }
   ],
   "source": [
    "for k,v in count.items():\n",
    "    print(doc.vocab[k].text, \" | \", v)"
   ]
  }
 ],
 "metadata": {
  "kernelspec": {
   "display_name": "nlp",
   "language": "python",
   "name": "python3"
  },
  "language_info": {
   "codemirror_mode": {
    "name": "ipython",
    "version": 3
   },
   "file_extension": ".py",
   "mimetype": "text/x-python",
   "name": "python",
   "nbconvert_exporter": "python",
   "pygments_lexer": "ipython3",
   "version": "3.11.7"
  }
 },
 "nbformat": 4,
 "nbformat_minor": 2
}
