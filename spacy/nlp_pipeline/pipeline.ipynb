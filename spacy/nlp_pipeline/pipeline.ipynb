{
 "cells": [
  {
   "cell_type": "markdown",
   "metadata": {},
   "source": [
    "Blank Pipeline"
   ]
  },
  {
   "cell_type": "code",
   "execution_count": 1,
   "metadata": {},
   "outputs": [],
   "source": [
    "import spacy"
   ]
  },
  {
   "cell_type": "code",
   "execution_count": 2,
   "metadata": {},
   "outputs": [],
   "source": [
    "nlp = spacy.blank(\"en\")"
   ]
  },
  {
   "cell_type": "code",
   "execution_count": 3,
   "metadata": {},
   "outputs": [
    {
     "name": "stdout",
     "output_type": "stream",
     "text": [
      "Python\n",
      "AI\n",
      "Engenerring\n",
      "!\n"
     ]
    },
    {
     "data": {
      "text/plain": [
       "[]"
      ]
     },
     "execution_count": 3,
     "metadata": {},
     "output_type": "execute_result"
    }
   ],
   "source": [
    "doc = nlp(\"Python AI Engenerring!\")\n",
    "for token in doc:\n",
    "    print(token)\n",
    "nlp.pipe_names"
   ]
  },
  {
   "cell_type": "markdown",
   "metadata": {},
   "source": [
    "Trained Pipeline"
   ]
  },
  {
   "cell_type": "code",
   "execution_count": 4,
   "metadata": {},
   "outputs": [
    {
     "data": {
      "text/plain": [
       "[('tok2vec', <spacy.pipeline.tok2vec.Tok2Vec at 0x7ff423b679b0>),\n",
       " ('tagger', <spacy.pipeline.tagger.Tagger at 0x7ff42392cdd0>),\n",
       " ('parser', <spacy.pipeline.dep_parser.DependencyParser at 0x7ff423b86340>),\n",
       " ('attribute_ruler',\n",
       "  <spacy.pipeline.attributeruler.AttributeRuler at 0x7ff4236f4510>),\n",
       " ('lemmatizer',\n",
       "  <spacy.lang.en.lemmatizer.EnglishLemmatizer at 0x7ff4236ee450>),\n",
       " ('ner', <spacy.pipeline.ner.EntityRecognizer at 0x7ff423b86650>)]"
      ]
     },
     "execution_count": 4,
     "metadata": {},
     "output_type": "execute_result"
    }
   ],
   "source": [
    "nlp = spacy.load(\"en_core_web_sm\")\n",
    "# nlp.pipe_names\n",
    "nlp.pipeline"
   ]
  },
  {
   "cell_type": "code",
   "execution_count": 5,
   "metadata": {},
   "outputs": [
    {
     "name": "stdout",
     "output_type": "stream",
     "text": [
      "If  |  SCONJ  |  if\n",
      "they  |  PRON  |  they\n",
      "do  |  AUX  |  do\n",
      "n't  |  PART  |  not\n",
      "have  |  VERB  |  have\n",
      "what  |  PRON  |  what\n",
      "you  |  PRON  |  you\n",
      "want  |  VERB  |  want\n",
      ",  |  PUNCT  |  ,\n",
      "do  |  AUX  |  do\n",
      "n't  |  PART  |  not\n",
      "listen  |  VERB  |  listen\n",
      "to  |  ADP  |  to\n",
      "what  |  PRON  |  what\n",
      "they  |  PRON  |  they\n",
      "say  |  VERB  |  say\n",
      ".  |  PUNCT  |  .\n",
      "There  |  PRON  |  there\n",
      "'s  |  VERB  |  be\n",
      "no  |  DET  |  no\n",
      "greater  |  ADJ  |  great\n",
      "waste  |  NOUN  |  waste\n",
      "of  |  ADP  |  of\n",
      "time  |  NOUN  |  time\n",
      "than  |  ADP  |  than\n",
      "justifying  |  VERB  |  justify\n",
      "your  |  PRON  |  your\n",
      "actions  |  NOUN  |  action\n",
      "to  |  ADP  |  to\n",
      "people  |  NOUN  |  people\n",
      "who  |  PRON  |  who\n",
      "have  |  VERB  |  have\n",
      "a  |  DET  |  a\n",
      "life  |  NOUN  |  life\n",
      "you  |  PRON  |  you\n",
      "do  |  AUX  |  do\n",
      "n't  |  PART  |  not\n",
      "want  |  VERB  |  want\n",
      "!  |  PUNCT  |  !\n"
     ]
    }
   ],
   "source": [
    "doc = nlp(\"If they don't have what you want, don't listen to what they say. There's no greater waste of time than justifying your actions to people who have a life you don't want!\")\n",
    "for token in doc:\n",
    "    print(token, \" | \", token.pos_, \" | \", token.lemma_)"
   ]
  },
  {
   "cell_type": "code",
   "execution_count": 6,
   "metadata": {},
   "outputs": [
    {
     "name": "stdout",
     "output_type": "stream",
     "text": [
      "GPT  |  ORG  |  Companies, agencies, institutions, etc.\n",
      "OpenAI  |  GPE  |  Countries, cities, states\n",
      "$100 Billion  |  MONEY  |  Monetary values, including unit\n"
     ]
    }
   ],
   "source": [
    "doc = nlp(\"The creators of the famed GPT models, OpenAI, is looking to raise $100 Billion in investments\")\n",
    "for ent in doc.ents:\n",
    "    print(ent.text, \" | \", ent.label_, \" | \", spacy.explain(ent.label_))"
   ]
  },
  {
   "cell_type": "code",
   "execution_count": 7,
   "metadata": {},
   "outputs": [],
   "source": [
    "doc = nlp(\"Elon Musk created GrokAI\")"
   ]
  },
  {
   "cell_type": "code",
   "execution_count": 8,
   "metadata": {},
   "outputs": [
    {
     "data": {
      "text/html": [
       "<span class=\"tex2jax_ignore\"><div class=\"entities\" style=\"line-height: 2.5; direction: ltr\">\n",
       "<mark class=\"entity\" style=\"background: #aa9cfc; padding: 0.45em 0.6em; margin: 0 0.25em; line-height: 1; border-radius: 0.35em;\">\n",
       "    Elon Musk\n",
       "    <span style=\"font-size: 0.8em; font-weight: bold; line-height: 1; border-radius: 0.35em; vertical-align: middle; margin-left: 0.5rem\">PERSON</span>\n",
       "</mark>\n",
       " created GrokAI</div></span>"
      ],
      "text/plain": [
       "<IPython.core.display.HTML object>"
      ]
     },
     "metadata": {},
     "output_type": "display_data"
    }
   ],
   "source": [
    "from spacy import displacy # Text decorator\n",
    "displacy.render(doc, style=\"ent\")"
   ]
  }
 ],
 "metadata": {
  "kernelspec": {
   "display_name": "nlp",
   "language": "python",
   "name": "python3"
  },
  "language_info": {
   "codemirror_mode": {
    "name": "ipython",
    "version": 3
   },
   "file_extension": ".py",
   "mimetype": "text/x-python",
   "name": "python",
   "nbconvert_exporter": "python",
   "pygments_lexer": "ipython3",
   "version": "3.11.7"
  }
 },
 "nbformat": 4,
 "nbformat_minor": 2
}
