{
 "cells": [
  {
   "cell_type": "markdown",
   "metadata": {},
   "source": [
    "Creating a Custom Pipeline From Blank Spacy Instance"
   ]
  },
  {
   "cell_type": "code",
   "execution_count": 29,
   "metadata": {},
   "outputs": [],
   "source": [
    "import spacy"
   ]
  },
  {
   "cell_type": "code",
   "execution_count": 30,
   "metadata": {},
   "outputs": [],
   "source": [
    "nlp = spacy.blank(\"en\")"
   ]
  },
  {
   "cell_type": "markdown",
   "metadata": {},
   "source": [
    "The beow won't work because our pipeline is empty"
   ]
  },
  {
   "cell_type": "code",
   "execution_count": 31,
   "metadata": {},
   "outputs": [
    {
     "data": {
      "text/plain": [
       "[]"
      ]
     },
     "execution_count": 31,
     "metadata": {},
     "output_type": "execute_result"
    }
   ],
   "source": [
    "doc = nlp(\"OpenAI announces $100 Billion investment. Google invests $4 Billion into OpenAI rival Anthropic\")\n",
    "for ent in doc.ents:\n",
    "    print(ent.text, \" | \", ent.label_, \" | \", spacy.explain(ent.label_))\n",
    "\n",
    "# run to verify pipeline is empty\n",
    "nlp.pipe_names"
   ]
  },
  {
   "cell_type": "markdown",
   "metadata": {},
   "source": [
    "For our custom NLP pipeline let's say we want just the (Name Entinity Recognizer - ner)"
   ]
  },
  {
   "cell_type": "code",
   "execution_count": 32,
   "metadata": {},
   "outputs": [
    {
     "data": {
      "text/plain": [
       "['ner']"
      ]
     },
     "execution_count": 32,
     "metadata": {},
     "output_type": "execute_result"
    }
   ],
   "source": [
    "# First Load The ner from the english pipeline\n",
    "source_nlp = spacy.load(\"en_core_web_sm\")\n",
    "\n",
    "# create the blank pipeline\n",
    "nlp = spacy.blank(\"en\")\n",
    "\n",
    "# Now add 'ner' component from English trained pipeline\n",
    "nlp.add_pipe(\"ner\", source=source_nlp)\n",
    "\n",
    "# Print pipename to see if its bee added to pipeline\n",
    "nlp.pipe_names"
   ]
  },
  {
   "cell_type": "markdown",
   "metadata": {},
   "source": [
    "Now lets run the preious code again"
   ]
  },
  {
   "cell_type": "code",
   "execution_count": 33,
   "metadata": {},
   "outputs": [
    {
     "name": "stdout",
     "output_type": "stream",
     "text": [
      "OpenAI  |  GPE  |  Countries, cities, states\n",
      "$100 Billion  |  MONEY  |  Monetary values, including unit\n",
      "Google  |  ORG  |  Companies, agencies, institutions, etc.\n",
      "$4 Billion  |  MONEY  |  Monetary values, including unit\n",
      "OpenAI  |  GPE  |  Countries, cities, states\n",
      "Anthropic  |  GPE  |  Countries, cities, states\n"
     ]
    }
   ],
   "source": [
    "doc = nlp(\"OpenAI announces $100 Billion investment. Google invests $4 Billion into OpenAI rival Anthropic\")\n",
    "for ent in doc.ents:\n",
    "    print(ent.text, \" | \", ent.label_, \" | \", spacy.explain(ent.label_))"
   ]
  }
 ],
 "metadata": {
  "kernelspec": {
   "display_name": "nlp",
   "language": "python",
   "name": "python3"
  },
  "language_info": {
   "codemirror_mode": {
    "name": "ipython",
    "version": 3
   },
   "file_extension": ".py",
   "mimetype": "text/x-python",
   "name": "python",
   "nbconvert_exporter": "python",
   "pygments_lexer": "ipython3",
   "version": "3.11.7"
  }
 },
 "nbformat": 4,
 "nbformat_minor": 2
}
