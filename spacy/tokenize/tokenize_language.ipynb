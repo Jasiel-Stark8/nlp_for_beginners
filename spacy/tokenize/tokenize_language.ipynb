{
 "cells": [
  {
   "cell_type": "code",
   "execution_count": 1,
   "metadata": {},
   "outputs": [],
   "source": [
    "import spacy"
   ]
  },
  {
   "cell_type": "code",
   "execution_count": 2,
   "metadata": {},
   "outputs": [],
   "source": [
    "nlp = spacy.blank(\"zh\")"
   ]
  },
  {
   "cell_type": "code",
   "execution_count": 3,
   "metadata": {},
   "outputs": [],
   "source": [
    "doc = nlp('最堅強的選擇需要最強壯的意志')"
   ]
  },
  {
   "cell_type": "code",
   "execution_count": 4,
   "metadata": {},
   "outputs": [
    {
     "name": "stdout",
     "output_type": "stream",
     "text": [
      "最 True\n",
      "堅 True\n",
      "強 True\n",
      "的 True\n",
      "選 True\n",
      "擇 True\n",
      "需 True\n",
      "要 True\n",
      "最 True\n",
      "強 True\n",
      "壯 True\n",
      "的 True\n",
      "意 True\n",
      "志 True\n"
     ]
    }
   ],
   "source": [
    "for token in doc:\n",
    "    print(token, token.is_alpha)"
   ]
  }
 ],
 "metadata": {
  "kernelspec": {
   "display_name": "nlp",
   "language": "python",
   "name": "python3"
  },
  "language_info": {
   "codemirror_mode": {
    "name": "ipython",
    "version": 3
   },
   "file_extension": ".py",
   "mimetype": "text/x-python",
   "name": "python",
   "nbconvert_exporter": "python",
   "pygments_lexer": "ipython3",
   "version": "3.11.7"
  }
 },
 "nbformat": 4,
 "nbformat_minor": 2
}
