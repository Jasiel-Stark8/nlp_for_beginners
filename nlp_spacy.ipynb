{
 "cells": [
  {
   "cell_type": "code",
   "execution_count": null,
   "id": "bb43b285",
   "metadata": {},
   "outputs": [],
   "source": [
    "# python3 -m pip install --upgrade pip\n",
    "# !pip install spacy\n",
    "# python -m spacy download en_core_web_sm"
   ]
  },
  {
   "cell_type": "code",
   "execution_count": null,
   "id": "d92d3d5a",
   "metadata": {},
   "outputs": [],
   "source": [
    "import spacy"
   ]
  },
  {
   "cell_type": "code",
   "execution_count": null,
   "id": "423623da",
   "metadata": {},
   "outputs": [],
   "source": [
    "nlp = spacy.load('en_core_web_sm')"
   ]
  },
  {
   "cell_type": "code",
   "execution_count": null,
   "id": "671fcdfc",
   "metadata": {},
   "outputs": [],
   "source": [
    "doc = nlp('True AGI. Through MM&CD we can find not only perfect, but we can fin\\\n",
    "d true superalignment and a solid step to ASI. From the heart of Africa!')"
   ]
  },
  {
   "cell_type": "code",
   "execution_count": null,
   "id": "151b2a7a",
   "metadata": {},
   "outputs": [],
   "source": [
    "# Sentence tokenization\n",
    "for sentence in doc.sents:\n",
    "    print(sentence)"
   ]
  },
  {
   "cell_type": "code",
   "execution_count": null,
   "id": "da48f315",
   "metadata": {},
   "outputs": [],
   "source": [
    "# Word tokenization\n",
    "for sentence in doc.sents:\n",
    "    for word in sentence:\n",
    "        print(word)"
   ]
  }
 ],
 "metadata": {
  "kernelspec": {
   "display_name": "Python 3 (ipykernel)",
   "language": "python",
   "name": "python3"
  },
  "language_info": {
   "codemirror_mode": {
    "name": "ipython",
    "version": 3
   },
   "file_extension": ".py",
   "mimetype": "text/x-python",
   "name": "python",
   "nbconvert_exporter": "python",
   "pygments_lexer": "ipython3",
   "version": "3.11.7"
  }
 },
 "nbformat": 4,
 "nbformat_minor": 5
}
