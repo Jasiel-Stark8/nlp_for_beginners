{
 "cells": [
  {
   "cell_type": "code",
   "execution_count": 1,
   "id": "bb43b285",
   "metadata": {},
   "outputs": [],
   "source": [
    "# python3 -m pip install --upgrade pip\n",
    "# !pip install spacy\n",
    "# python -m spacy download en_core_web_sm"
   ]
  },
  {
   "cell_type": "code",
   "execution_count": 2,
   "id": "d92d3d5a",
   "metadata": {},
   "outputs": [],
   "source": [
    "import spacy"
   ]
  },
  {
   "cell_type": "code",
   "execution_count": 3,
   "id": "423623da",
   "metadata": {},
   "outputs": [],
   "source": [
    "nlp = spacy.load('en_core_web_sm')"
   ]
  },
  {
   "cell_type": "code",
   "execution_count": 4,
   "id": "671fcdfc",
   "metadata": {},
   "outputs": [],
   "source": [
    "doc = nlp('True AGI. Through MM&CD we can find not only perfect, but we can fin\\\n",
    "d true superalignment and a solid step to ASI. From the heart of Africa!')"
   ]
  },
  {
   "cell_type": "code",
   "execution_count": 5,
   "id": "151b2a7a",
   "metadata": {},
   "outputs": [
    {
     "name": "stdout",
     "output_type": "stream",
     "text": [
      "True AGI.\n",
      "Through MM&CD we can find not only perfect, but we can find true superalignment and a solid step to ASI.\n",
      "From the heart of Africa!\n"
     ]
    }
   ],
   "source": [
    "# Sentence tokenization\n",
    "for sentence in doc.sents:\n",
    "    print(sentence)"
   ]
  },
  {
   "cell_type": "code",
   "execution_count": 6,
   "id": "da48f315",
   "metadata": {},
   "outputs": [
    {
     "name": "stdout",
     "output_type": "stream",
     "text": [
      "True\n",
      "AGI\n",
      ".\n",
      "Through\n",
      "MM&CD\n",
      "we\n",
      "can\n",
      "find\n",
      "not\n",
      "only\n",
      "perfect\n",
      ",\n",
      "but\n",
      "we\n",
      "can\n",
      "find\n",
      "true\n",
      "superalignment\n",
      "and\n",
      "a\n",
      "solid\n",
      "step\n",
      "to\n",
      "ASI\n",
      ".\n",
      "From\n",
      "the\n",
      "heart\n",
      "of\n",
      "Africa\n",
      "!\n"
     ]
    }
   ],
   "source": [
    "# Word tokenization\n",
    "for sentence in doc.sents:\n",
    "    for word in sentence:\n",
    "        print(word)"
   ]
  }
 ],
 "metadata": {
  "kernelspec": {
   "display_name": "Python 3 (ipykernel)",
   "language": "python",
   "name": "python3"
  },
  "language_info": {
   "codemirror_mode": {
    "name": "ipython",
    "version": 3
   },
   "file_extension": ".py",
   "mimetype": "text/x-python",
   "name": "python",
   "nbconvert_exporter": "python",
   "pygments_lexer": "ipython3",
   "version": "3.11.7"
  }
 },
 "nbformat": 4,
 "nbformat_minor": 5
}
